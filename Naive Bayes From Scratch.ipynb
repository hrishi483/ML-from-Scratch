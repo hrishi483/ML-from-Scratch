{
 "cells": [
  {
   "cell_type": "code",
   "execution_count": 1,
   "id": "73cf3f9f",
   "metadata": {},
   "outputs": [],
   "source": [
    "import numpy as np \n",
    "import pandas as pd\n",
    "import seaborn as sns\n",
    "import random"
   ]
  },
  {
   "cell_type": "code",
   "execution_count": 2,
   "id": "2f6e2782",
   "metadata": {},
   "outputs": [],
   "source": [
    "iris=pd.read_csv('iris.csv')"
   ]
  },
  {
   "cell_type": "code",
   "execution_count": 3,
   "id": "98286937",
   "metadata": {},
   "outputs": [
    {
     "data": {
      "text/plain": [
       "Index(['Unnamed: 0', 'sepal_lenght', 'sepal_width', 'petal_lenght',\n",
       "       'petal_width', 'class'],\n",
       "      dtype='object')"
      ]
     },
     "execution_count": 3,
     "metadata": {},
     "output_type": "execute_result"
    }
   ],
   "source": [
    "iris.columns"
   ]
  },
  {
   "cell_type": "code",
   "execution_count": 4,
   "id": "25549f15",
   "metadata": {},
   "outputs": [
    {
     "data": {
      "text/html": [
       "<div>\n",
       "<style scoped>\n",
       "    .dataframe tbody tr th:only-of-type {\n",
       "        vertical-align: middle;\n",
       "    }\n",
       "\n",
       "    .dataframe tbody tr th {\n",
       "        vertical-align: top;\n",
       "    }\n",
       "\n",
       "    .dataframe thead th {\n",
       "        text-align: right;\n",
       "    }\n",
       "</style>\n",
       "<table border=\"1\" class=\"dataframe\">\n",
       "  <thead>\n",
       "    <tr style=\"text-align: right;\">\n",
       "      <th></th>\n",
       "      <th>sepal_lenght</th>\n",
       "      <th>sepal_width</th>\n",
       "      <th>petal_lenght</th>\n",
       "      <th>petal_width</th>\n",
       "      <th>class</th>\n",
       "    </tr>\n",
       "  </thead>\n",
       "  <tbody>\n",
       "    <tr>\n",
       "      <th>0</th>\n",
       "      <td>5.1</td>\n",
       "      <td>3.5</td>\n",
       "      <td>1.4</td>\n",
       "      <td>0.2</td>\n",
       "      <td>Iris-setosa</td>\n",
       "    </tr>\n",
       "    <tr>\n",
       "      <th>1</th>\n",
       "      <td>4.9</td>\n",
       "      <td>3.0</td>\n",
       "      <td>1.4</td>\n",
       "      <td>0.2</td>\n",
       "      <td>Iris-setosa</td>\n",
       "    </tr>\n",
       "    <tr>\n",
       "      <th>2</th>\n",
       "      <td>4.7</td>\n",
       "      <td>3.2</td>\n",
       "      <td>1.3</td>\n",
       "      <td>0.2</td>\n",
       "      <td>Iris-setosa</td>\n",
       "    </tr>\n",
       "    <tr>\n",
       "      <th>3</th>\n",
       "      <td>4.6</td>\n",
       "      <td>3.1</td>\n",
       "      <td>1.5</td>\n",
       "      <td>0.2</td>\n",
       "      <td>Iris-setosa</td>\n",
       "    </tr>\n",
       "    <tr>\n",
       "      <th>4</th>\n",
       "      <td>5.0</td>\n",
       "      <td>3.6</td>\n",
       "      <td>1.4</td>\n",
       "      <td>0.2</td>\n",
       "      <td>Iris-setosa</td>\n",
       "    </tr>\n",
       "  </tbody>\n",
       "</table>\n",
       "</div>"
      ],
      "text/plain": [
       "   sepal_lenght  sepal_width  petal_lenght  petal_width        class\n",
       "0           5.1          3.5           1.4          0.2  Iris-setosa\n",
       "1           4.9          3.0           1.4          0.2  Iris-setosa\n",
       "2           4.7          3.2           1.3          0.2  Iris-setosa\n",
       "3           4.6          3.1           1.5          0.2  Iris-setosa\n",
       "4           5.0          3.6           1.4          0.2  Iris-setosa"
      ]
     },
     "execution_count": 4,
     "metadata": {},
     "output_type": "execute_result"
    }
   ],
   "source": [
    "iris.head()\n",
    "iris=iris.drop(columns='Unnamed: 0')\n",
    "iris.head()"
   ]
  },
  {
   "cell_type": "code",
   "execution_count": 5,
   "id": "63517d48",
   "metadata": {},
   "outputs": [],
   "source": [
    "iris=iris.rename(columns={'sepal_lenght':'sepal_len','petal_lenght':'petal_len'})"
   ]
  },
  {
   "cell_type": "code",
   "execution_count": 6,
   "id": "1ab1b4c8",
   "metadata": {},
   "outputs": [
    {
     "data": {
      "text/html": [
       "<div>\n",
       "<style scoped>\n",
       "    .dataframe tbody tr th:only-of-type {\n",
       "        vertical-align: middle;\n",
       "    }\n",
       "\n",
       "    .dataframe tbody tr th {\n",
       "        vertical-align: top;\n",
       "    }\n",
       "\n",
       "    .dataframe thead th {\n",
       "        text-align: right;\n",
       "    }\n",
       "</style>\n",
       "<table border=\"1\" class=\"dataframe\">\n",
       "  <thead>\n",
       "    <tr style=\"text-align: right;\">\n",
       "      <th></th>\n",
       "      <th>sepal_len</th>\n",
       "      <th>sepal_width</th>\n",
       "      <th>petal_len</th>\n",
       "      <th>petal_width</th>\n",
       "      <th>class</th>\n",
       "    </tr>\n",
       "  </thead>\n",
       "  <tbody>\n",
       "    <tr>\n",
       "      <th>0</th>\n",
       "      <td>5.1</td>\n",
       "      <td>3.5</td>\n",
       "      <td>1.4</td>\n",
       "      <td>0.2</td>\n",
       "      <td>Iris-setosa</td>\n",
       "    </tr>\n",
       "    <tr>\n",
       "      <th>1</th>\n",
       "      <td>4.9</td>\n",
       "      <td>3.0</td>\n",
       "      <td>1.4</td>\n",
       "      <td>0.2</td>\n",
       "      <td>Iris-setosa</td>\n",
       "    </tr>\n",
       "    <tr>\n",
       "      <th>2</th>\n",
       "      <td>4.7</td>\n",
       "      <td>3.2</td>\n",
       "      <td>1.3</td>\n",
       "      <td>0.2</td>\n",
       "      <td>Iris-setosa</td>\n",
       "    </tr>\n",
       "    <tr>\n",
       "      <th>3</th>\n",
       "      <td>4.6</td>\n",
       "      <td>3.1</td>\n",
       "      <td>1.5</td>\n",
       "      <td>0.2</td>\n",
       "      <td>Iris-setosa</td>\n",
       "    </tr>\n",
       "    <tr>\n",
       "      <th>4</th>\n",
       "      <td>5.0</td>\n",
       "      <td>3.6</td>\n",
       "      <td>1.4</td>\n",
       "      <td>0.2</td>\n",
       "      <td>Iris-setosa</td>\n",
       "    </tr>\n",
       "  </tbody>\n",
       "</table>\n",
       "</div>"
      ],
      "text/plain": [
       "   sepal_len  sepal_width  petal_len  petal_width        class\n",
       "0        5.1          3.5        1.4          0.2  Iris-setosa\n",
       "1        4.9          3.0        1.4          0.2  Iris-setosa\n",
       "2        4.7          3.2        1.3          0.2  Iris-setosa\n",
       "3        4.6          3.1        1.5          0.2  Iris-setosa\n",
       "4        5.0          3.6        1.4          0.2  Iris-setosa"
      ]
     },
     "execution_count": 6,
     "metadata": {},
     "output_type": "execute_result"
    }
   ],
   "source": [
    "iris.head()"
   ]
  },
  {
   "cell_type": "code",
   "execution_count": 7,
   "id": "2df3562a",
   "metadata": {},
   "outputs": [],
   "source": [
    "y_class=list(iris['class'].unique())"
   ]
  },
  {
   "cell_type": "code",
   "execution_count": 8,
   "id": "d86e16fc",
   "metadata": {},
   "outputs": [],
   "source": [
    "def gaussian_distribution(value,data,col):\n",
    "    variance=data[col].var()\n",
    "    mean=data[col].mean()\n",
    "    e=2.71828\n",
    "    \n",
    "    \n",
    "    denom=(2*3.14*variance)**0.5   #root(2*pi*sigma^2)\n",
    "    expo=((value-mean)**2)/(2*variance) #-(X-u)^2/2*sigma^2\n",
    "    numer=e**(-expo)\n",
    "    \n",
    "    \n",
    "    return numer/denom"
   ]
  },
  {
   "cell_type": "code",
   "execution_count": 9,
   "id": "2634e470",
   "metadata": {},
   "outputs": [],
   "source": [
    "# def categorical(value,data,col):\n",
    "#     return new_df=(data[(data['class']==target)&(data[col]==value)].shape[0])/(data['class']==target).shape[0]"
   ]
  },
  {
   "cell_type": "code",
   "execution_count": 10,
   "id": "27276717",
   "metadata": {},
   "outputs": [],
   "source": [
    "def compute_probablity(target,X_test,data):\n",
    "    class_counts=dict(data['class'].value_counts())\n",
    "    prob_y=class_counts[y]/sum(class_counts.values())\n",
    "    \n",
    "    X=data.drop(columns='class').columns\n",
    "    \n",
    "    new_df=data[data['class']==target]\n",
    "    p=1\n",
    "    for x_value,col in zip(X_test,X):\n",
    "        p=p*gaussian_distribution(x_value,new_df,col)\n",
    "    \n",
    "    return (prob_y*p)\n",
    "    "
   ]
  },
  {
   "cell_type": "code",
   "execution_count": 11,
   "id": "074c98eb",
   "metadata": {},
   "outputs": [
    {
     "name": "stdout",
     "output_type": "stream",
     "text": [
      "33\n",
      "sepal_len      5.5\n",
      "sepal_width    4.2\n",
      "petal_len      1.4\n",
      "petal_width    0.2\n",
      "Name: 33, dtype: object Iris-setosa\n"
     ]
    }
   ],
   "source": [
    "test_index=random.randint(0,iris.shape[0])\n",
    "# test_index=26\n",
    "print(test_index)\n",
    "X_test=iris.iloc[test_index,:4]\n",
    "y_act=iris.loc[test_index,'class']\n",
    "\n",
    "print(X_test,y_act)"
   ]
  },
  {
   "cell_type": "code",
   "execution_count": 12,
   "id": "3dbbe80b",
   "metadata": {},
   "outputs": [
    {
     "name": "stdout",
     "output_type": "stream",
     "text": [
      "{'Iris-setosa': 0.13244013910245467, 'Iris-versicolor': 1.0024968452750059e-20, 'Iris-virginica': 5.9158198631301835e-27}\n",
      "Iris-setosa Iris-setosa\n"
     ]
    }
   ],
   "source": [
    "probablities=dict()\n",
    "\n",
    "\n",
    "\n",
    "for y in y_class:\n",
    "    probablities[y]=compute_probablity(y,X_test,iris)\n",
    "\n",
    "print(probablities)\n",
    "# print(X_test)\n",
    "y_predict=max(probablities,key=probablities.get)\n",
    "print(y_act,y_predict)"
   ]
  },
  {
   "cell_type": "code",
   "execution_count": 13,
   "id": "d0aaf45b",
   "metadata": {},
   "outputs": [],
   "source": [
    "# data=pd.read_csv('HR_Analytics.csv')"
   ]
  },
  {
   "cell_type": "markdown",
   "id": "3aac9ca2",
   "metadata": {},
   "source": [
    "# Naive Bayes"
   ]
  },
  {
   "cell_type": "markdown",
   "id": "d0277257",
   "metadata": {},
   "source": [
    "Prepare a Documentation for this Class and also Add link of notes/material used"
   ]
  },
  {
   "cell_type": "code",
   "execution_count": 285,
   "id": "03c3005e",
   "metadata": {},
   "outputs": [],
   "source": [
    "class NaiveBayes():\n",
    "    \n",
    "    \n",
    "    def __init__(self,train_data,target_column=-1):\n",
    "        self.data=train_data\n",
    "        self.X=train_data.iloc[:,:-1]\n",
    "        self.y=train_data.iloc[:,-1]\n",
    "        \n",
    "        self.class_label=self.data.columns[-1]\n",
    "        \n",
    "        \n",
    "    \n",
    "    def predict(self,X_test,categorical=[]):\n",
    "        \n",
    "        self.categorical=categorical\n",
    "#         print(self.categorical)\n",
    "        \n",
    "        self.X_test=X_test\n",
    "        y_class=self.y.unique()\n",
    "        probablity=dict()     \n",
    "        \n",
    "        for y in y_class:\n",
    "            probablity[y]=self.calculate_probablity(y)\n",
    "        y_predict=max(probablity,key=probablity.get)\n",
    "                \n",
    "        return y_predict\n",
    "        \n",
    "    def calculate_probablity(self,target):\n",
    "        class_counts=dict(self.data.iloc[:,-1].value_counts())\n",
    "        prob_y=class_counts[target]/sum(class_counts.values())\n",
    "        \n",
    "         #Columns with categorical can be passed as a list by default all sent as Guassian\n",
    "        \n",
    "        p=1\n",
    "        new_df=self.data[self.data[self.class_label]==target]\n",
    "        for xvalue,col in zip(self.X_test,self.X.columns):\n",
    "            \n",
    "#             print(xvalue,col,col in self.categorical)\n",
    "            \n",
    "            if col in self.categorical:\n",
    "                p*=self.categorical_probablity(xvalue,new_df,col)\n",
    "            if col not in self.categorical:\n",
    "                p*=self.gaussian_probablity(xvalue,new_df,col)\n",
    "        return (p*prob_y)\n",
    "    \n",
    "    def gaussian_probablity(self,value,new_df,col):\n",
    "        variance=new_df[col].var()\n",
    "        mean=new_df[col].mean()\n",
    "        e=2.71828\n",
    "                \n",
    "        denom=(2*3.14*variance)**0.5   #root(2*pi*sigma^2)\n",
    "        expo=((value-mean)**2)/(2*variance) #-(X-u)^2/2*sigma^2\n",
    "        numer=e**(-expo)\n",
    "        return numer/denom\n",
    "    \n",
    "    def categorical_probablity(self,value,new_df,col):\n",
    "        nc=self.data[(self.data[self.class_label]==value)&(self.data[col]==value)].shape[0]\n",
    "        n=(self.data[self.class_label]==value).shape[0]\n",
    "        return (nc+1)/(n+len(self.data.iloc[:,-1].unique()))\n",
    "    \n",
    "    def score(self,X_test,y_actual,categorical=[]):\n",
    "        score=0\n",
    "        for y,test_row in zip(y_actual,X_test.values):\n",
    "            if y==self.predict(test_row,categorical):\n",
    "                score+=1\n",
    "                \n",
    "        print(\"Accuracy = \",100*(score/len(X_test)))\n",
    "        return 100*(score/len(X_test))\n",
    "    "
   ]
  },
  {
   "cell_type": "code",
   "execution_count": 286,
   "id": "ba1e743b",
   "metadata": {
    "scrolled": false
   },
   "outputs": [
    {
     "name": "stdout",
     "output_type": "stream",
     "text": [
      "Accuracy =  93.33333333333333\n",
      "Accuracy =  96.66666666666667\n",
      "Accuracy =  93.33333333333333\n",
      "Accuracy =  93.33333333333333\n",
      "Accuracy =  100.0\n",
      "95.33333333333333\n"
     ]
    }
   ],
   "source": [
    "from sklearn.model_selection import StratifiedKFold\n",
    "kf=StratifiedKFold(n_splits=5)\n",
    "\n",
    "X=iris.iloc[:,:-1]\n",
    "y=iris.iloc[:,-1]\n",
    "\n",
    "scores=[]\n",
    "for train_index,test_index in kf.split(X,y):\n",
    "    X_train=X.iloc[train_index]\n",
    "    y_train=y.iloc[train_index]\n",
    "    \n",
    "    X_test=X.iloc[test_index]\n",
    "    y_test=y.iloc[test_index]\n",
    "    \n",
    "    nb=NaiveBayes(iris.iloc[train_index])\n",
    "    scores.append(nb.score(X_test,y_test))\n",
    "\n",
    "print(np.mean(scores))"
   ]
  },
  {
   "cell_type": "code",
   "execution_count": 287,
   "id": "1e9559cc",
   "metadata": {},
   "outputs": [],
   "source": [
    "df=pd.read_csv(r\"D:\\AI Adventures\\Machine Learning\\HR_Analytics.csv.crdownload\")"
   ]
  },
  {
   "cell_type": "code",
   "execution_count": 288,
   "id": "3fd2ee59",
   "metadata": {},
   "outputs": [],
   "source": [
    "df.loc[df['YearsWithCurrManager'].isnull(),'YearsWithCurrManager']=df['YearsWithCurrManager'].mean()\n",
    "df=df.dropna()\n"
   ]
  },
  {
   "cell_type": "code",
   "execution_count": 289,
   "id": "5891d13d",
   "metadata": {},
   "outputs": [
    {
     "data": {
      "text/html": [
       "<div>\n",
       "<style scoped>\n",
       "    .dataframe tbody tr th:only-of-type {\n",
       "        vertical-align: middle;\n",
       "    }\n",
       "\n",
       "    .dataframe tbody tr th {\n",
       "        vertical-align: top;\n",
       "    }\n",
       "\n",
       "    .dataframe thead th {\n",
       "        text-align: right;\n",
       "    }\n",
       "</style>\n",
       "<table border=\"1\" class=\"dataframe\">\n",
       "  <thead>\n",
       "    <tr style=\"text-align: right;\">\n",
       "      <th></th>\n",
       "      <th>EmpID</th>\n",
       "      <th>Age</th>\n",
       "      <th>AgeGroup</th>\n",
       "      <th>Attrition</th>\n",
       "      <th>BusinessTravel</th>\n",
       "      <th>DailyRate</th>\n",
       "      <th>Department</th>\n",
       "      <th>DistanceFromHome</th>\n",
       "      <th>Education</th>\n",
       "      <th>EducationField</th>\n",
       "      <th>...</th>\n",
       "      <th>RelationshipSatisfaction</th>\n",
       "      <th>StandardHours</th>\n",
       "      <th>StockOptionLevel</th>\n",
       "      <th>TotalWorkingYears</th>\n",
       "      <th>TrainingTimesLastYear</th>\n",
       "      <th>WorkLifeBalance</th>\n",
       "      <th>YearsAtCompany</th>\n",
       "      <th>YearsInCurrentRole</th>\n",
       "      <th>YearsSinceLastPromotion</th>\n",
       "      <th>YearsWithCurrManager</th>\n",
       "    </tr>\n",
       "  </thead>\n",
       "  <tbody>\n",
       "    <tr>\n",
       "      <th>0</th>\n",
       "      <td>RM297</td>\n",
       "      <td>18</td>\n",
       "      <td>18-25</td>\n",
       "      <td>Yes</td>\n",
       "      <td>Travel_Rarely</td>\n",
       "      <td>230</td>\n",
       "      <td>Research &amp; Development</td>\n",
       "      <td>3</td>\n",
       "      <td>3</td>\n",
       "      <td>Life Sciences</td>\n",
       "      <td>...</td>\n",
       "      <td>3</td>\n",
       "      <td>80</td>\n",
       "      <td>0</td>\n",
       "      <td>0</td>\n",
       "      <td>2</td>\n",
       "      <td>3</td>\n",
       "      <td>0</td>\n",
       "      <td>0.0</td>\n",
       "      <td>0.0</td>\n",
       "      <td>0.0</td>\n",
       "    </tr>\n",
       "    <tr>\n",
       "      <th>1</th>\n",
       "      <td>RM302</td>\n",
       "      <td>18</td>\n",
       "      <td>18-25</td>\n",
       "      <td>No</td>\n",
       "      <td>Travel_Rarely</td>\n",
       "      <td>812</td>\n",
       "      <td>Sales</td>\n",
       "      <td>10</td>\n",
       "      <td>3</td>\n",
       "      <td>Medical</td>\n",
       "      <td>...</td>\n",
       "      <td>1</td>\n",
       "      <td>80</td>\n",
       "      <td>0</td>\n",
       "      <td>0</td>\n",
       "      <td>2</td>\n",
       "      <td>3</td>\n",
       "      <td>0</td>\n",
       "      <td>0.0</td>\n",
       "      <td>0.0</td>\n",
       "      <td>0.0</td>\n",
       "    </tr>\n",
       "    <tr>\n",
       "      <th>2</th>\n",
       "      <td>RM458</td>\n",
       "      <td>18</td>\n",
       "      <td>18-25</td>\n",
       "      <td>Yes</td>\n",
       "      <td>Travel_Frequently</td>\n",
       "      <td>1306</td>\n",
       "      <td>Sales</td>\n",
       "      <td>5</td>\n",
       "      <td>3</td>\n",
       "      <td>Marketing</td>\n",
       "      <td>...</td>\n",
       "      <td>4</td>\n",
       "      <td>80</td>\n",
       "      <td>0</td>\n",
       "      <td>0</td>\n",
       "      <td>3</td>\n",
       "      <td>3</td>\n",
       "      <td>0</td>\n",
       "      <td>0.0</td>\n",
       "      <td>0.0</td>\n",
       "      <td>0.0</td>\n",
       "    </tr>\n",
       "    <tr>\n",
       "      <th>3</th>\n",
       "      <td>RM728</td>\n",
       "      <td>18</td>\n",
       "      <td>18-25</td>\n",
       "      <td>No</td>\n",
       "      <td>Non-Travel</td>\n",
       "      <td>287</td>\n",
       "      <td>Research &amp; Development</td>\n",
       "      <td>5</td>\n",
       "      <td>2</td>\n",
       "      <td>Life Sciences</td>\n",
       "      <td>...</td>\n",
       "      <td>4</td>\n",
       "      <td>80</td>\n",
       "      <td>0</td>\n",
       "      <td>0</td>\n",
       "      <td>2</td>\n",
       "      <td>3</td>\n",
       "      <td>0</td>\n",
       "      <td>0.0</td>\n",
       "      <td>0.0</td>\n",
       "      <td>0.0</td>\n",
       "    </tr>\n",
       "    <tr>\n",
       "      <th>4</th>\n",
       "      <td>RM829</td>\n",
       "      <td>18</td>\n",
       "      <td>18-25</td>\n",
       "      <td>Yes</td>\n",
       "      <td>Non-Travel</td>\n",
       "      <td>247</td>\n",
       "      <td>Research &amp; Development</td>\n",
       "      <td>8</td>\n",
       "      <td>1</td>\n",
       "      <td>Medical</td>\n",
       "      <td>...</td>\n",
       "      <td>4</td>\n",
       "      <td>80</td>\n",
       "      <td>0</td>\n",
       "      <td>0</td>\n",
       "      <td>0</td>\n",
       "      <td>3</td>\n",
       "      <td>0</td>\n",
       "      <td>0.0</td>\n",
       "      <td>0.0</td>\n",
       "      <td>0.0</td>\n",
       "    </tr>\n",
       "  </tbody>\n",
       "</table>\n",
       "<p>5 rows × 38 columns</p>\n",
       "</div>"
      ],
      "text/plain": [
       "   EmpID  Age AgeGroup Attrition     BusinessTravel  DailyRate  \\\n",
       "0  RM297   18    18-25       Yes      Travel_Rarely        230   \n",
       "1  RM302   18    18-25        No      Travel_Rarely        812   \n",
       "2  RM458   18    18-25       Yes  Travel_Frequently       1306   \n",
       "3  RM728   18    18-25        No         Non-Travel        287   \n",
       "4  RM829   18    18-25       Yes         Non-Travel        247   \n",
       "\n",
       "               Department  DistanceFromHome  Education EducationField  ...  \\\n",
       "0  Research & Development                 3          3  Life Sciences  ...   \n",
       "1                   Sales                10          3        Medical  ...   \n",
       "2                   Sales                 5          3      Marketing  ...   \n",
       "3  Research & Development                 5          2  Life Sciences  ...   \n",
       "4  Research & Development                 8          1        Medical  ...   \n",
       "\n",
       "   RelationshipSatisfaction  StandardHours  StockOptionLevel  \\\n",
       "0                         3             80                 0   \n",
       "1                         1             80                 0   \n",
       "2                         4             80                 0   \n",
       "3                         4             80                 0   \n",
       "4                         4             80                 0   \n",
       "\n",
       "  TotalWorkingYears  TrainingTimesLastYear  WorkLifeBalance  YearsAtCompany  \\\n",
       "0                 0                      2                3               0   \n",
       "1                 0                      2                3               0   \n",
       "2                 0                      3                3               0   \n",
       "3                 0                      2                3               0   \n",
       "4                 0                      0                3               0   \n",
       "\n",
       "  YearsInCurrentRole  YearsSinceLastPromotion YearsWithCurrManager  \n",
       "0                0.0                      0.0                  0.0  \n",
       "1                0.0                      0.0                  0.0  \n",
       "2                0.0                      0.0                  0.0  \n",
       "3                0.0                      0.0                  0.0  \n",
       "4                0.0                      0.0                  0.0  \n",
       "\n",
       "[5 rows x 38 columns]"
      ]
     },
     "execution_count": 289,
     "metadata": {},
     "output_type": "execute_result"
    }
   ],
   "source": [
    "df.head()"
   ]
  },
  {
   "cell_type": "code",
   "execution_count": 290,
   "id": "ede5f299",
   "metadata": {},
   "outputs": [],
   "source": [
    "Categorical=['Education','EnvironmentSatisfaction','JobInvolvement','JobLevel','JobSatisfaction','RelationshipSatisfaction',\n",
    "            'StockOptionLevel','WorkLifeBalance']\n",
    "\n",
    "df=df.drop(columns=['EmpID','EmployeeCount','Over18','PerformanceRating','StandardHours','EmployeeNumber','AgeGroup'])"
   ]
  },
  {
   "cell_type": "code",
   "execution_count": 291,
   "id": "34da98b2",
   "metadata": {},
   "outputs": [],
   "source": [
    "df['Education'] = df['Education'].astype('category')\n",
    "\n",
    "\n",
    "for col in Categorical:\n",
    "    df[col]=df[col].astype('category')"
   ]
  },
  {
   "cell_type": "code",
   "execution_count": 292,
   "id": "7c4e9776",
   "metadata": {},
   "outputs": [
    {
     "name": "stdout",
     "output_type": "stream",
     "text": [
      "Index(['BusinessTravel', 'Department', 'Education', 'EducationField',\n",
      "       'EnvironmentSatisfaction', 'Gender', 'JobInvolvement', 'JobLevel',\n",
      "       'JobRole', 'JobSatisfaction', 'MaritalStatus', 'SalarySlab', 'OverTime',\n",
      "       'RelationshipSatisfaction', 'StockOptionLevel', 'WorkLifeBalance'],\n",
      "      dtype='object')\n"
     ]
    }
   ],
   "source": [
    "df['target']=df['Attrition']\n",
    "new_df=df.drop(columns='Attrition')\n",
    "new_df\n",
    "\n",
    "\n",
    "Categorical_columns=new_df.iloc[:,:-1].select_dtypes(['object','category']).columns\n",
    "print(Categorical_columns)"
   ]
  },
  {
   "cell_type": "code",
   "execution_count": 293,
   "id": "2c429a38",
   "metadata": {},
   "outputs": [
    {
     "name": "stdout",
     "output_type": "stream",
     "text": [
      "Index(['BusinessTravel', 'Department', 'Education', 'EducationField',\n",
      "       'EnvironmentSatisfaction', 'Gender', 'JobInvolvement', 'JobLevel',\n",
      "       'JobRole', 'JobSatisfaction', 'MaritalStatus', 'SalarySlab', 'OverTime',\n",
      "       'RelationshipSatisfaction', 'StockOptionLevel', 'WorkLifeBalance'],\n",
      "      dtype='object')\n",
      "Accuracy =  51.973684210526315\n",
      "Accuracy =  74.3421052631579\n",
      "Accuracy =  79.47019867549669\n",
      "Accuracy =  74.83443708609272\n",
      "Accuracy =  74.17218543046357\n"
     ]
    }
   ],
   "source": [
    "from sklearn.model_selection import StratifiedKFold\n",
    "kf=StratifiedKFold(n_splits=5)\n",
    "\n",
    "X=new_df.iloc[:,:-1]\n",
    "y=new_df.iloc[:,-1]\n",
    "scores=[]\n",
    "\n",
    "print(Categorical_columns)\n",
    "# Categorical_columns=[]\n",
    "\n",
    "for train_index,test_index in kf.split(X,y):\n",
    "    X_test=new_df.iloc[test_index,:-1]\n",
    "    y_test=new_df.iloc[test_index,-1]\n",
    "    \n",
    "    nb=NaiveBayes(new_df)\n",
    "    scores.append(nb.score(X_test,y_test,categorical=Categorical_columns))\n",
    "    \n",
    "    \n",
    "# nb=NaiveBayes(df,)"
   ]
  },
  {
   "cell_type": "code",
   "execution_count": 294,
   "id": "ae8e3ae1",
   "metadata": {},
   "outputs": [
    {
     "name": "stdout",
     "output_type": "stream",
     "text": [
      "70.95852213314744\n"
     ]
    }
   ],
   "source": [
    "print(np.mean(scores))"
   ]
  },
  {
   "cell_type": "code",
   "execution_count": null,
   "id": "b1743c63",
   "metadata": {},
   "outputs": [],
   "source": []
  }
 ],
 "metadata": {
  "kernelspec": {
   "display_name": "Python 3 (ipykernel)",
   "language": "python",
   "name": "python3"
  },
  "language_info": {
   "codemirror_mode": {
    "name": "ipython",
    "version": 3
   },
   "file_extension": ".py",
   "mimetype": "text/x-python",
   "name": "python",
   "nbconvert_exporter": "python",
   "pygments_lexer": "ipython3",
   "version": "3.10.7"
  }
 },
 "nbformat": 4,
 "nbformat_minor": 5
}

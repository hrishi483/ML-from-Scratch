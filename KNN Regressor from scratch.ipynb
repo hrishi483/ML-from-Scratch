{
 "cells": [
  {
   "cell_type": "code",
   "execution_count": 16,
   "id": "63095e18",
   "metadata": {},
   "outputs": [],
   "source": [
    "import pandas as pd\n",
    "import numpy as np\n",
    "import seaborn as sns\n",
    "import matplotlib.pyplot as plt\n",
    "import random\n",
    "from sklearn.neighbors import KNeighborsRegressor"
   ]
  },
  {
   "cell_type": "code",
   "execution_count": 17,
   "id": "822aeb95",
   "metadata": {},
   "outputs": [],
   "source": [
    "X=pd.DataFrame(X,columns=['Feature1','Feature2','Feature3'])\n",
    "y=pd.DataFrame(y,columns=['Target'])\n"
   ]
  },
  {
   "cell_type": "code",
   "execution_count": 18,
   "id": "db4a6fc2",
   "metadata": {},
   "outputs": [],
   "source": [
    "class KNearestNeighbours_Regressor():\n",
    "    def __init__(self,k):\n",
    "        self.k=k\n",
    "    \n",
    "    def fit(self,Xtrain,ytrain):\n",
    "        self.Xtrain=np.array(Xtrain)\n",
    "        self.ytrain=ytrain\n",
    "    \n",
    "    def predict(self,Xtest):\n",
    "        self.Xtest=np.array(Xtest)\n",
    "        df=pd.DataFrame(np.sum((self.Xtrain-self.Xtest)**2,axis=1))\n",
    "        idx=df.nsmallest(self.k,columns=df.columns[0]).index\n",
    "        knearest=self.ytrain.iloc[idx]\n",
    "        return knearest.mean()\n",
    "    \n",
    "    def score(self,Xtest,ytest):\n",
    "        y_predict=[]\n",
    "        for x,y in zip(Xtest.values,ytest.values):\n",
    "            y_predict.append(self.predict(x))\n",
    "        y_predict=np.array(y_predict)\n",
    "        \n",
    "        #Mistake was in paranthesis\n",
    "        r2=1-(np.sum((y_predict-ytest)**2)/(np.sum((ytest-np.mean(ytest))**2)))\n",
    "        \n",
    "        \n",
    "        return r2\n",
    "                 \n",
    "        "
   ]
  },
  {
   "cell_type": "code",
   "execution_count": 19,
   "id": "cb754cd2",
   "metadata": {},
   "outputs": [],
   "source": [
    "diamonds=pd.read_csv(\"diamonds.csv\")\n",
    "diamonds.head(5)\n",
    "\n",
    "diamonds=diamonds.drop(columns=\"Unnamed: 0\")"
   ]
  },
  {
   "cell_type": "code",
   "execution_count": 20,
   "id": "88c4f24d",
   "metadata": {},
   "outputs": [
    {
     "data": {
      "text/html": [
       "<div>\n",
       "<style scoped>\n",
       "    .dataframe tbody tr th:only-of-type {\n",
       "        vertical-align: middle;\n",
       "    }\n",
       "\n",
       "    .dataframe tbody tr th {\n",
       "        vertical-align: top;\n",
       "    }\n",
       "\n",
       "    .dataframe thead th {\n",
       "        text-align: right;\n",
       "    }\n",
       "</style>\n",
       "<table border=\"1\" class=\"dataframe\">\n",
       "  <thead>\n",
       "    <tr style=\"text-align: right;\">\n",
       "      <th></th>\n",
       "      <th>carat</th>\n",
       "      <th>cut</th>\n",
       "      <th>color</th>\n",
       "      <th>clarity</th>\n",
       "      <th>depth</th>\n",
       "      <th>table</th>\n",
       "      <th>price</th>\n",
       "      <th>x</th>\n",
       "      <th>y</th>\n",
       "      <th>z</th>\n",
       "    </tr>\n",
       "  </thead>\n",
       "  <tbody>\n",
       "    <tr>\n",
       "      <th>0</th>\n",
       "      <td>0.23</td>\n",
       "      <td>2</td>\n",
       "      <td>1</td>\n",
       "      <td>3</td>\n",
       "      <td>61.5</td>\n",
       "      <td>55.0</td>\n",
       "      <td>326</td>\n",
       "      <td>3.95</td>\n",
       "      <td>3.98</td>\n",
       "      <td>2.43</td>\n",
       "    </tr>\n",
       "    <tr>\n",
       "      <th>1</th>\n",
       "      <td>0.21</td>\n",
       "      <td>3</td>\n",
       "      <td>1</td>\n",
       "      <td>2</td>\n",
       "      <td>59.8</td>\n",
       "      <td>61.0</td>\n",
       "      <td>326</td>\n",
       "      <td>3.89</td>\n",
       "      <td>3.84</td>\n",
       "      <td>2.31</td>\n",
       "    </tr>\n",
       "    <tr>\n",
       "      <th>2</th>\n",
       "      <td>0.23</td>\n",
       "      <td>1</td>\n",
       "      <td>1</td>\n",
       "      <td>4</td>\n",
       "      <td>56.9</td>\n",
       "      <td>65.0</td>\n",
       "      <td>327</td>\n",
       "      <td>4.05</td>\n",
       "      <td>4.07</td>\n",
       "      <td>2.31</td>\n",
       "    </tr>\n",
       "    <tr>\n",
       "      <th>3</th>\n",
       "      <td>0.29</td>\n",
       "      <td>3</td>\n",
       "      <td>5</td>\n",
       "      <td>5</td>\n",
       "      <td>62.4</td>\n",
       "      <td>58.0</td>\n",
       "      <td>334</td>\n",
       "      <td>4.20</td>\n",
       "      <td>4.23</td>\n",
       "      <td>2.63</td>\n",
       "    </tr>\n",
       "    <tr>\n",
       "      <th>4</th>\n",
       "      <td>0.31</td>\n",
       "      <td>1</td>\n",
       "      <td>6</td>\n",
       "      <td>3</td>\n",
       "      <td>63.3</td>\n",
       "      <td>58.0</td>\n",
       "      <td>335</td>\n",
       "      <td>4.34</td>\n",
       "      <td>4.35</td>\n",
       "      <td>2.75</td>\n",
       "    </tr>\n",
       "  </tbody>\n",
       "</table>\n",
       "</div>"
      ],
      "text/plain": [
       "   carat  cut  color  clarity  depth  table  price     x     y     z\n",
       "0   0.23    2      1        3   61.5   55.0    326  3.95  3.98  2.43\n",
       "1   0.21    3      1        2   59.8   61.0    326  3.89  3.84  2.31\n",
       "2   0.23    1      1        4   56.9   65.0    327  4.05  4.07  2.31\n",
       "3   0.29    3      5        5   62.4   58.0    334  4.20  4.23  2.63\n",
       "4   0.31    1      6        3   63.3   58.0    335  4.34  4.35  2.75"
      ]
     },
     "execution_count": 20,
     "metadata": {},
     "output_type": "execute_result"
    }
   ],
   "source": [
    "diamonds.head(3)\n",
    "\n",
    "#No Null values \n",
    "diamonds.isnull().sum()\n",
    "\n",
    "from sklearn.preprocessing import LabelEncoder\n",
    "lb=LabelEncoder()\n",
    "\n",
    "for i in diamonds.select_dtypes('object'):\n",
    "    diamonds[i]=lb.fit_transform(diamonds[i])\n",
    "    \n",
    "diamonds.head(5)"
   ]
  },
  {
   "cell_type": "code",
   "execution_count": 21,
   "id": "f14d01a8",
   "metadata": {},
   "outputs": [],
   "source": [
    "X=diamonds.drop(columns='price')\n",
    "y=diamonds['price']"
   ]
  },
  {
   "cell_type": "code",
   "execution_count": 23,
   "id": "0b731c64",
   "metadata": {},
   "outputs": [
    {
     "name": "stdout",
     "output_type": "stream",
     "text": [
      "Predicted =  5371.4   5561\n",
      "Sklearn Predicted =  [5371.4]   5561\n"
     ]
    },
    {
     "name": "stderr",
     "output_type": "stream",
     "text": [
      "c:\\Users\\hirsh\\AppData\\Local\\Programs\\Python\\Python310\\lib\\site-packages\\sklearn\\base.py:439: UserWarning: X does not have valid feature names, but KNeighborsRegressor was fitted with feature names\n",
      "  warnings.warn(\n"
     ]
    }
   ],
   "source": [
    "from sklearn.model_selection import train_test_split\n",
    "\n",
    "Xtrain,Xtest,ytrain,ytest=train_test_split(X,y)\n",
    "model=KNearestNeighbours_Regressor(5)\n",
    "model.fit(Xtrain,ytrain)\n",
    "\n",
    "test_index=random.randint(0,Xtest.shape[0])\n",
    "\n",
    "model2=KNeighborsRegressor()\n",
    "model2.fit(Xtrain,ytrain)\n",
    "print(\"Predicted = \",model.predict(Xtest.iloc[test_index]),\" \",ytest.iloc[test_index])\n",
    "print(\"Sklearn Predicted = \",model2.predict(Xtest.iloc[test_index].values.reshape(1,-1)),\" \",ytest.iloc[test_index])\n",
    "# print(Xtest.iloc[test_index].values)"
   ]
  },
  {
   "cell_type": "code",
   "execution_count": 24,
   "id": "db216688",
   "metadata": {},
   "outputs": [],
   "source": [
    "print(\"My score = \",model.score(Xtest,ytest))"
   ]
  },
  {
   "cell_type": "code",
   "execution_count": null,
   "id": "47ff2fc7",
   "metadata": {},
   "outputs": [
    {
     "data": {
      "text/plain": [
       "0.9439809196927451"
      ]
     },
     "execution_count": 15,
     "metadata": {},
     "output_type": "execute_result"
    }
   ],
   "source": [
    "model2.fit(Xtrain,ytrain)\n",
    "print(\"sklearn score = \",model2.score(Xtest,ytest))"
   ]
  }
 ],
 "metadata": {
  "kernelspec": {
   "display_name": "Python 3 (ipykernel)",
   "language": "python",
   "name": "python3"
  },
  "language_info": {
   "codemirror_mode": {
    "name": "ipython",
    "version": 3
   },
   "file_extension": ".py",
   "mimetype": "text/x-python",
   "name": "python",
   "nbconvert_exporter": "python",
   "pygments_lexer": "ipython3",
   "version": "3.10.7"
  }
 },
 "nbformat": 4,
 "nbformat_minor": 5
}
